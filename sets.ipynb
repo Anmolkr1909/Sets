{
  "nbformat": 4,
  "nbformat_minor": 0,
  "metadata": {
    "colab": {
      "provenance": [],
      "authorship_tag": "ABX9TyMZqO9f81tcBUMxUVzR0Am8",
      "include_colab_link": true
    },
    "kernelspec": {
      "name": "python3",
      "display_name": "Python 3"
    },
    "language_info": {
      "name": "python"
    }
  },
  "cells": [
    {
      "cell_type": "markdown",
      "metadata": {
        "id": "view-in-github",
        "colab_type": "text"
      },
      "source": [
        "<a href=\"https://colab.research.google.com/github/Anmolkr1909/Sets/blob/main/sets.ipynb\" target=\"_parent\"><img src=\"https://colab.research.google.com/assets/colab-badge.svg\" alt=\"Open In Colab\"/></a>"
      ]
    },
    {
      "cell_type": "markdown",
      "source": [
        "# Sets\n",
        "\n",
        "---\n",
        "\n"
      ],
      "metadata": {
        "id": "Ou4m6QJ9-cFa"
      }
    },
    {
      "cell_type": "markdown",
      "source": [
        "53) Remove Duplicate Emails from List\n",
        "*  Clean up a messy email list by removing duplicates.\n"
      ],
      "metadata": {
        "id": "JL2f4zON--eu"
      }
    },
    {
      "cell_type": "code",
      "source": [
        "emails = [\"a@gmail.com\", \"b@gmail.com\", \"a@gmail.com\", \"c@gmail.com\"]\n",
        "unique_emails = set(emails)  # Converts list to set to remove duplicates\n",
        "\n",
        "print(\"Unique Emails:\", unique_emails)\n"
      ],
      "metadata": {
        "colab": {
          "base_uri": "https://localhost:8080/"
        },
        "id": "HremkUxa_NjJ",
        "outputId": "ae9d15d1-70e9-4e3c-ec7d-8cfa35aae18d"
      },
      "execution_count": null,
      "outputs": [
        {
          "output_type": "stream",
          "name": "stdout",
          "text": [
            "Unique Emails: {'b@gmail.com', 'a@gmail.com', 'c@gmail.com'}\n"
          ]
        }
      ]
    },
    {
      "cell_type": "markdown",
      "source": [
        "\n",
        "\n",
        "---\n",
        "\n"
      ],
      "metadata": {
        "id": "cb-fv3bf_uKE"
      }
    },
    {
      "cell_type": "markdown",
      "source": [
        "54) Common Students in Two Courses\n",
        "*    Find students who are enrolled in both courses."
      ],
      "metadata": {
        "id": "mKmRPhYc-cEL"
      }
    },
    {
      "cell_type": "code",
      "execution_count": null,
      "metadata": {
        "colab": {
          "base_uri": "https://localhost:8080/"
        },
        "id": "HI10nEUm9oRD",
        "outputId": "2c8f893c-b5c8-4d6d-afdd-50a66c78a29f"
      },
      "outputs": [
        {
          "output_type": "stream",
          "name": "stdout",
          "text": [
            "Common Students: {'Priya', 'Ravi'}\n"
          ]
        }
      ],
      "source": [
        "courseA = {\"Anmol\", \"Ravi\", \"Neha\", \"Priya\"}\n",
        "courseB = {\"Ravi\", \"Priya\", \"Aman\"}\n",
        "\n",
        "common_students = courseA.intersection(courseB)\n",
        "\n",
        "print(\"Common Students:\", common_students)\n"
      ]
    },
    {
      "cell_type": "markdown",
      "source": [
        "\n",
        "\n",
        "---\n",
        "\n"
      ],
      "metadata": {
        "id": "wq5oZX_u_1c6"
      }
    },
    {
      "cell_type": "markdown",
      "source": [
        "55) Only App Users Not Website Users\n",
        "*    Find users who are using only the mobile app but not the website."
      ],
      "metadata": {
        "id": "GBBme_f4AGp1"
      }
    },
    {
      "cell_type": "code",
      "source": [
        "app_users = {\"Anmol\", \"Neha\", \"Ravi\", \"Karan\"}\n",
        "website_users = {\"Ravi\", \"Priya\", \"Karan\"}\n",
        "\n",
        "only_app = app_users.difference(website_users)\n",
        "\n",
        "print(\"📱 App-Only Users:\", only_app)\n"
      ],
      "metadata": {
        "colab": {
          "base_uri": "https://localhost:8080/"
        },
        "id": "8lTMCa9a_2nv",
        "outputId": "4ab9ac9d-ab2c-4462-e5df-9fc77d455cef"
      },
      "execution_count": null,
      "outputs": [
        {
          "output_type": "stream",
          "name": "stdout",
          "text": [
            "📱 App-Only Users: {'Neha', 'Anmol'}\n"
          ]
        }
      ]
    },
    {
      "cell_type": "markdown",
      "source": [
        "\n",
        "\n",
        "---\n",
        "\n"
      ],
      "metadata": {
        "id": "90Zg_I61Ako_"
      }
    },
    {
      "cell_type": "markdown",
      "source": [
        "56) Merge Unique Customers from Two shops\n",
        "*  Combine customer names from two shops without duplicate"
      ],
      "metadata": {
        "id": "sV_Yg0wjANrY"
      }
    },
    {
      "cell_type": "code",
      "source": [
        "shop1_customers = {\"Anmol\", \"Ravi\", \"Neha\"}\n",
        "shop2_customers = {\"Neha\", \"Priya\", \"Karan\"}\n",
        "\n",
        "all_customers = shop1_customers.union(shop2_customers)\n",
        "\n",
        "print(\"All Unique Customers:\", all_customers)\n"
      ],
      "metadata": {
        "colab": {
          "base_uri": "https://localhost:8080/"
        },
        "id": "7xJ7AnQZAdKM",
        "outputId": "6012fd6b-f3ab-4b9f-f175-1600b8b33292"
      },
      "execution_count": null,
      "outputs": [
        {
          "output_type": "stream",
          "name": "stdout",
          "text": [
            "All Unique Customers: {'Priya', 'Neha', 'Karan', 'Ravi', 'Anmol'}\n"
          ]
        }
      ]
    },
    {
      "cell_type": "markdown",
      "source": [
        "\n",
        "\n",
        "---\n",
        "\n"
      ],
      "metadata": {
        "id": "m-X1nNk_AldN"
      }
    },
    {
      "cell_type": "markdown",
      "source": [
        "57) Check if Two Product Categories Are Totally Different\n",
        "*  Verify if two categories of products have no overlap"
      ],
      "metadata": {
        "id": "UeNFXU1JAofr"
      }
    },
    {
      "cell_type": "code",
      "source": [
        "beverages = {\"Tea\", \"Coffee\", \"Juice\"}\n",
        "cosmetics = {\"Shampoo\", \"Cream\", \"Soap\"}\n",
        "\n",
        "are_disjoint = beverages.isdisjoint(cosmetics)\n",
        "\n",
        "print(\"Are Categories Different?\", are_disjoint)\n"
      ],
      "metadata": {
        "colab": {
          "base_uri": "https://localhost:8080/"
        },
        "id": "bwiiUbl4AmGp",
        "outputId": "ccfd496e-f9b9-47a6-eb9d-c96250468ed9"
      },
      "execution_count": null,
      "outputs": [
        {
          "output_type": "stream",
          "name": "stdout",
          "text": [
            "Are Categories Different? True\n"
          ]
        }
      ]
    },
    {
      "cell_type": "markdown",
      "source": [
        "\n",
        "\n",
        "---\n",
        "\n",
        "\n",
        "\n",
        "---\n",
        "\n"
      ],
      "metadata": {
        "id": "piUj034uBAzl"
      }
    }
  ]
}